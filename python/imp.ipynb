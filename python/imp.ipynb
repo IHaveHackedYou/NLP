{
 "cells": [
  {
   "cell_type": "code",
   "execution_count": 39,
   "metadata": {},
   "outputs": [],
   "source": [
    "base_num = 72802\n",
    "exp_num = 2471\n",
    "mod_num = 231\n",
    "\n",
    "bin_num = bin(exp_num)\n",
    "bin_num = bin_num[2:]\n",
    "bin_num = bin_num[::-1]"
   ]
  },
  {
   "cell_type": "code",
   "execution_count": 33,
   "metadata": {},
   "outputs": [
    {
     "data": {
      "text/plain": [
       "5"
      ]
     },
     "execution_count": 33,
     "metadata": {},
     "output_type": "execute_result"
    }
   ],
   "source": [
    "40 % 7"
   ]
  },
  {
   "cell_type": "code",
   "execution_count": 40,
   "metadata": {},
   "outputs": [
    {
     "data": {
      "text/plain": [
       "4"
      ]
     },
     "execution_count": 40,
     "metadata": {},
     "output_type": "execute_result"
    }
   ],
   "source": [
    "mod_nums = 1\n",
    "pred = 0\n",
    "\n",
    "for i in range(len(bin_num)):\n",
    "  if i == 0:\n",
    "    pred = base_num % mod_num\n",
    "  else:\n",
    "    pred = (pred**2) % mod_num\n",
    "  if bin_num[i] == \"1\":\n",
    "    mod_nums *= pred\n",
    "\n",
    "mod_nums%mod_num"
   ]
  }
 ],
 "metadata": {
  "kernelspec": {
   "display_name": "Python 3.9.12 ('nlp')",
   "language": "python",
   "name": "python3"
  },
  "language_info": {
   "codemirror_mode": {
    "name": "ipython",
    "version": 3
   },
   "file_extension": ".py",
   "mimetype": "text/x-python",
   "name": "python",
   "nbconvert_exporter": "python",
   "pygments_lexer": "ipython3",
   "version": "3.9.12"
  },
  "orig_nbformat": 4,
  "vscode": {
   "interpreter": {
    "hash": "d07c81919ca7fd4acb4a92695b942ec0c4e50566f66c8cdc92b0224b82d9aa98"
   }
  }
 },
 "nbformat": 4,
 "nbformat_minor": 2
}
